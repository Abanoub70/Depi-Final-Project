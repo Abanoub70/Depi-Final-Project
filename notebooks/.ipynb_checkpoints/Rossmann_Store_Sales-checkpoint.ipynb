{
  "nbformat": 4,
  "nbformat_minor": 0,
  "metadata": {
    "colab": {
      "provenance": []
    },
    "kernelspec": {
      "name": "python3",
      "display_name": "Python 3"
    },
    "language_info": {
      "name": "python"
    }
  },
  "cells": [
    {
      "cell_type": "markdown",
      "source": [
        "# Link with Kaggle dataset\n"
      ],
      "metadata": {
        "id": "1y2bpXPiBC6Q"
      }
    },
    {
      "cell_type": "code",
      "source": [
        "!pip install q kaggle\n"
      ],
      "metadata": {
        "id": "p82nCUVuBHfv"
      },
      "execution_count": null,
      "outputs": []
    },
    {
      "cell_type": "code",
      "source": [
        "from google.colab import files\n",
        "files.upload() # Upload your JSON file"
      ],
      "metadata": {
        "id": "_ZgU35rzBHcH"
      },
      "execution_count": null,
      "outputs": []
    },
    {
      "cell_type": "code",
      "source": [
        "!mkdir -p ~/.kaggle\n",
        "!mv kaggle.json ~/.kaggle/\n",
        "!chmod 600 ~/.kaggle/kaggle.json  # Set permissions to read/write only for the owner"
      ],
      "metadata": {
        "id": "6SAF_zbLBHW7"
      },
      "execution_count": null,
      "outputs": []
    },
    {
      "cell_type": "code",
      "source": [
        "!kaggle competitions download -c rossmann-store-sales"
      ],
      "metadata": {
        "id": "xpXDzNVWD7sh"
      },
      "execution_count": null,
      "outputs": []
    },
    {
      "cell_type": "code",
      "source": [
        "!unzip rossmann-store-sales.zip"
      ],
      "metadata": {
        "id": "4Za1ZSQYEHUt"
      },
      "execution_count": null,
      "outputs": []
    },
    {
      "cell_type": "markdown",
      "source": [
        "# Data Collecting"
      ],
      "metadata": {
        "id": "FOQVUAuZ9ZlU"
      }
    },
    {
      "cell_type": "code",
      "execution_count": null,
      "metadata": {
        "id": "fHylC4Cx9U6o"
      },
      "outputs": [],
      "source": [
        "import pandas as pd\n",
        "import numpy as np"
      ]
    },
    {
      "cell_type": "code",
      "source": [
        "# Load datasetes\n",
        "train = pd.read_csv('train.csv')\n",
        "store = pd.read_csv('store.csv')\n",
        "test = pd.read_csv('test.csv')\n"
      ],
      "metadata": {
        "id": "CHRmngf6BCLt"
      },
      "execution_count": null,
      "outputs": []
    },
    {
      "cell_type": "code",
      "source": [
        "store.head()"
      ],
      "metadata": {
        "id": "HUCOP7TJFBQX"
      },
      "execution_count": null,
      "outputs": []
    },
    {
      "cell_type": "code",
      "source": [],
      "metadata": {
        "id": "QQCrM2NtFBS1"
      },
      "execution_count": null,
      "outputs": []
    },
    {
      "cell_type": "code",
      "source": [],
      "metadata": {
        "id": "y42a8IeKFBNn"
      },
      "execution_count": null,
      "outputs": []
    },
    {
      "cell_type": "markdown",
      "source": [
        "# Exploratory Data Analysis EDA"
      ],
      "metadata": {
        "id": "3tUhwqKcOE3-"
      }
    },
    {
      "cell_type": "code",
      "source": [],
      "metadata": {
        "id": "PYMmVPZNP2Ts"
      },
      "execution_count": null,
      "outputs": []
    },
    {
      "cell_type": "markdown",
      "source": [
        "# Data Cleaning and Pre-Processing"
      ],
      "metadata": {
        "id": "V4Slf7ibOLOa"
      }
    },
    {
      "cell_type": "code",
      "source": [],
      "metadata": {
        "id": "vYQ4LRVEFBKO"
      },
      "execution_count": null,
      "outputs": []
    },
    {
      "cell_type": "markdown",
      "source": [
        "# Feature Engineering"
      ],
      "metadata": {
        "id": "_VYYB3WQPwTV"
      }
    },
    {
      "cell_type": "code",
      "source": [],
      "metadata": {
        "id": "Iv0idIirFBGG"
      },
      "execution_count": null,
      "outputs": []
    },
    {
      "cell_type": "markdown",
      "source": [
        "# Building ML Model"
      ],
      "metadata": {
        "id": "-fcVOlY0ORSV"
      }
    },
    {
      "cell_type": "code",
      "source": [],
      "metadata": {
        "id": "dLkwjefyOZlF"
      },
      "execution_count": null,
      "outputs": []
    },
    {
      "cell_type": "markdown",
      "source": [
        "# Evaluting the ML Model"
      ],
      "metadata": {
        "id": "DkPOiOU7P9HK"
      }
    },
    {
      "cell_type": "code",
      "source": [],
      "metadata": {
        "id": "3RtqOZLxQIdT"
      },
      "execution_count": null,
      "outputs": []
    },
    {
      "cell_type": "markdown",
      "source": [
        "# Deployment"
      ],
      "metadata": {
        "id": "lSM9Vz2MOVY0"
      }
    },
    {
      "cell_type": "code",
      "source": [],
      "metadata": {
        "id": "Ay3CfTQcOZ8L"
      },
      "execution_count": null,
      "outputs": []
    }
  ]
}